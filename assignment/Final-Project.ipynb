{
 "cells": [
  {
   "cell_type": "markdown",
   "id": "92a60ea9-102a-4168-b5e4-fcee14ee92ed",
   "metadata": {},
   "source": [
    "# Final Project\n",
    "This is my final project of the MAP 674 class. This project will show everything I did, and a ReadMe file is included for the steps on how the process is done."
   ]
  },
  {
   "cell_type": "markdown",
   "id": "0ce055e1-3f58-44ef-a052-f54c3f95a983",
   "metadata": {},
   "source": [
    "## Importing programs\n",
    "I will import the following programs below."
   ]
  },
  {
   "cell_type": "code",
   "execution_count": 1,
   "id": "fd13f29a-a2e2-4ac1-a398-e95d0ab3e8d2",
   "metadata": {},
   "outputs": [],
   "source": [
    "%matplotlib inline\n",
    "\n",
    "import pandas as pd\n",
    "import geopandas as gpd\n",
    "import matplotlib.pyplot as plt\n",
    "\n",
    "import leafmap"
   ]
  },
  {
   "cell_type": "markdown",
   "id": "ff08c0b3-d674-49da-aa36-8e56d4145f6e",
   "metadata": {},
   "source": [
    "## Topic\n",
    "The topic of my final project will be related to Australia. This final project will involve several maps and datas featuring Australia."
   ]
  },
  {
   "cell_type": "code",
   "execution_count": 2,
   "id": "a798be7e-648e-44d7-9fde-2780e499fd1c",
   "metadata": {},
   "outputs": [
    {
     "name": "stdout",
     "output_type": "stream",
     "text": [
      "(-25, 133)\n"
     ]
    },
    {
     "data": {
      "text/plain": [
       "-25"
      ]
     },
     "execution_count": 2,
     "metadata": {},
     "output_type": "execute_result"
    }
   ],
   "source": [
    "coords = (-25, 133)\n",
    "print(coords)\n",
    "\n",
    "coords[0]"
   ]
  },
  {
   "cell_type": "markdown",
   "id": "bb43e576-49e5-4541-9ac3-c7cd6242b018",
   "metadata": {},
   "source": [
    "## Creating spatial overlays\n",
    "In this section, I will use what I learned in the geopandas assignment and create the spatial overlays for Australia."
   ]
  },
  {
   "cell_type": "markdown",
   "id": "8e7871ef-1d55-4fe5-b73d-da12b9f27afd",
   "metadata": {},
   "source": [
    "### Importing the data\n",
    "In this section, I will be importing data to clip the points for Australia. These data are imported from <a href=\"https://www.naturalearthdata.com/downloads/50m-cultural-vectors/50m-populated-places/\">this link</a> and <a href=\"https://www.naturalearthdata.com/downloads/50m-cultural-vectors/50m-admin-0-countries-2/\">this link</a>. I then filtered both and exported them as geojsons to focus on Australia."
   ]
  },
  {
   "cell_type": "code",
   "execution_count": 3,
   "id": "44ab2958-75ff-4b16-87a1-a69e3d4f0606",
   "metadata": {},
   "outputs": [
    {
     "ename": "DriverError",
     "evalue": "..data/ne_50m_admin_0_australia.geojson: No such file or directory",
     "output_type": "error",
     "traceback": [
      "\u001b[0;31m---------------------------------------------------------------------------\u001b[0m",
      "\u001b[0;31mCPLE_OpenFailedError\u001b[0m                      Traceback (most recent call last)",
      "File \u001b[0;32mfiona/ogrext.pyx:136\u001b[0m, in \u001b[0;36mfiona.ogrext.gdal_open_vector\u001b[0;34m()\u001b[0m\n",
      "File \u001b[0;32mfiona/_err.pyx:291\u001b[0m, in \u001b[0;36mfiona._err.exc_wrap_pointer\u001b[0;34m()\u001b[0m\n",
      "\u001b[0;31mCPLE_OpenFailedError\u001b[0m: ..data/ne_50m_admin_0_australia.geojson: No such file or directory",
      "\nDuring handling of the above exception, another exception occurred:\n",
      "\u001b[0;31mDriverError\u001b[0m                               Traceback (most recent call last)",
      "Cell \u001b[0;32mIn[3], line 1\u001b[0m\n\u001b[0;32m----> 1\u001b[0m countries \u001b[38;5;241m=\u001b[39m \u001b[43mgpd\u001b[49m\u001b[38;5;241;43m.\u001b[39;49m\u001b[43mread_file\u001b[49m\u001b[43m(\u001b[49m\u001b[38;5;124;43m\"\u001b[39;49m\u001b[38;5;124;43m..data/ne_50m_admin_0_australia.geojson\u001b[39;49m\u001b[38;5;124;43m\"\u001b[39;49m\u001b[43m)\u001b[49m\n\u001b[1;32m      2\u001b[0m pop_places \u001b[38;5;241m=\u001b[39m gpd\u001b[38;5;241m.\u001b[39mread_file(\u001b[38;5;124m\"\u001b[39m\u001b[38;5;124m..data/ne_50m_populated_places_australia.geojson\u001b[39m\u001b[38;5;124m\"\u001b[39m)\n",
      "File \u001b[0;32m~/miniconda3/envs/674_02/lib/python3.9/site-packages/geopandas/io/file.py:297\u001b[0m, in \u001b[0;36m_read_file\u001b[0;34m(filename, bbox, mask, rows, engine, **kwargs)\u001b[0m\n\u001b[1;32m    294\u001b[0m     \u001b[38;5;28;01melse\u001b[39;00m:\n\u001b[1;32m    295\u001b[0m         path_or_bytes \u001b[38;5;241m=\u001b[39m filename\n\u001b[0;32m--> 297\u001b[0m     \u001b[38;5;28;01mreturn\u001b[39;00m \u001b[43m_read_file_fiona\u001b[49m\u001b[43m(\u001b[49m\n\u001b[1;32m    298\u001b[0m \u001b[43m        \u001b[49m\u001b[43mpath_or_bytes\u001b[49m\u001b[43m,\u001b[49m\u001b[43m \u001b[49m\u001b[43mfrom_bytes\u001b[49m\u001b[43m,\u001b[49m\u001b[43m \u001b[49m\u001b[43mbbox\u001b[49m\u001b[38;5;241;43m=\u001b[39;49m\u001b[43mbbox\u001b[49m\u001b[43m,\u001b[49m\u001b[43m \u001b[49m\u001b[43mmask\u001b[49m\u001b[38;5;241;43m=\u001b[39;49m\u001b[43mmask\u001b[49m\u001b[43m,\u001b[49m\u001b[43m \u001b[49m\u001b[43mrows\u001b[49m\u001b[38;5;241;43m=\u001b[39;49m\u001b[43mrows\u001b[49m\u001b[43m,\u001b[49m\u001b[43m \u001b[49m\u001b[38;5;241;43m*\u001b[39;49m\u001b[38;5;241;43m*\u001b[39;49m\u001b[43mkwargs\u001b[49m\n\u001b[1;32m    299\u001b[0m \u001b[43m    \u001b[49m\u001b[43m)\u001b[49m\n\u001b[1;32m    301\u001b[0m \u001b[38;5;28;01melse\u001b[39;00m:\n\u001b[1;32m    302\u001b[0m     \u001b[38;5;28;01mraise\u001b[39;00m \u001b[38;5;167;01mValueError\u001b[39;00m(\u001b[38;5;124mf\u001b[39m\u001b[38;5;124m\"\u001b[39m\u001b[38;5;124munknown engine \u001b[39m\u001b[38;5;124m'\u001b[39m\u001b[38;5;132;01m{\u001b[39;00mengine\u001b[38;5;132;01m}\u001b[39;00m\u001b[38;5;124m'\u001b[39m\u001b[38;5;124m\"\u001b[39m)\n",
      "File \u001b[0;32m~/miniconda3/envs/674_02/lib/python3.9/site-packages/geopandas/io/file.py:338\u001b[0m, in \u001b[0;36m_read_file_fiona\u001b[0;34m(path_or_bytes, from_bytes, bbox, mask, rows, where, **kwargs)\u001b[0m\n\u001b[1;32m    335\u001b[0m     reader \u001b[38;5;241m=\u001b[39m fiona\u001b[38;5;241m.\u001b[39mopen\n\u001b[1;32m    337\u001b[0m \u001b[38;5;28;01mwith\u001b[39;00m fiona_env():\n\u001b[0;32m--> 338\u001b[0m     \u001b[38;5;28;01mwith\u001b[39;00m \u001b[43mreader\u001b[49m\u001b[43m(\u001b[49m\u001b[43mpath_or_bytes\u001b[49m\u001b[43m,\u001b[49m\u001b[43m \u001b[49m\u001b[38;5;241;43m*\u001b[39;49m\u001b[38;5;241;43m*\u001b[39;49m\u001b[43mkwargs\u001b[49m\u001b[43m)\u001b[49m \u001b[38;5;28;01mas\u001b[39;00m features:\n\u001b[1;32m    339\u001b[0m         crs \u001b[38;5;241m=\u001b[39m features\u001b[38;5;241m.\u001b[39mcrs_wkt\n\u001b[1;32m    340\u001b[0m         \u001b[38;5;66;03m# attempt to get EPSG code\u001b[39;00m\n",
      "File \u001b[0;32m~/miniconda3/envs/674_02/lib/python3.9/site-packages/fiona/env.py:457\u001b[0m, in \u001b[0;36mensure_env_with_credentials.<locals>.wrapper\u001b[0;34m(*args, **kwds)\u001b[0m\n\u001b[1;32m    454\u001b[0m     session \u001b[38;5;241m=\u001b[39m DummySession()\n\u001b[1;32m    456\u001b[0m \u001b[38;5;28;01mwith\u001b[39;00m env_ctor(session\u001b[38;5;241m=\u001b[39msession):\n\u001b[0;32m--> 457\u001b[0m     \u001b[38;5;28;01mreturn\u001b[39;00m \u001b[43mf\u001b[49m\u001b[43m(\u001b[49m\u001b[38;5;241;43m*\u001b[39;49m\u001b[43margs\u001b[49m\u001b[43m,\u001b[49m\u001b[43m \u001b[49m\u001b[38;5;241;43m*\u001b[39;49m\u001b[38;5;241;43m*\u001b[39;49m\u001b[43mkwds\u001b[49m\u001b[43m)\u001b[49m\n",
      "File \u001b[0;32m~/miniconda3/envs/674_02/lib/python3.9/site-packages/fiona/__init__.py:292\u001b[0m, in \u001b[0;36mopen\u001b[0;34m(fp, mode, driver, schema, crs, encoding, layer, vfs, enabled_drivers, crs_wkt, allow_unsupported_drivers, **kwargs)\u001b[0m\n\u001b[1;32m    289\u001b[0m     path \u001b[38;5;241m=\u001b[39m parse_path(fp)\n\u001b[1;32m    291\u001b[0m \u001b[38;5;28;01mif\u001b[39;00m mode \u001b[38;5;129;01min\u001b[39;00m (\u001b[38;5;124m\"\u001b[39m\u001b[38;5;124ma\u001b[39m\u001b[38;5;124m\"\u001b[39m, \u001b[38;5;124m\"\u001b[39m\u001b[38;5;124mr\u001b[39m\u001b[38;5;124m\"\u001b[39m):\n\u001b[0;32m--> 292\u001b[0m     colxn \u001b[38;5;241m=\u001b[39m \u001b[43mCollection\u001b[49m\u001b[43m(\u001b[49m\n\u001b[1;32m    293\u001b[0m \u001b[43m        \u001b[49m\u001b[43mpath\u001b[49m\u001b[43m,\u001b[49m\n\u001b[1;32m    294\u001b[0m \u001b[43m        \u001b[49m\u001b[43mmode\u001b[49m\u001b[43m,\u001b[49m\n\u001b[1;32m    295\u001b[0m \u001b[43m        \u001b[49m\u001b[43mdriver\u001b[49m\u001b[38;5;241;43m=\u001b[39;49m\u001b[43mdriver\u001b[49m\u001b[43m,\u001b[49m\n\u001b[1;32m    296\u001b[0m \u001b[43m        \u001b[49m\u001b[43mencoding\u001b[49m\u001b[38;5;241;43m=\u001b[39;49m\u001b[43mencoding\u001b[49m\u001b[43m,\u001b[49m\n\u001b[1;32m    297\u001b[0m \u001b[43m        \u001b[49m\u001b[43mlayer\u001b[49m\u001b[38;5;241;43m=\u001b[39;49m\u001b[43mlayer\u001b[49m\u001b[43m,\u001b[49m\n\u001b[1;32m    298\u001b[0m \u001b[43m        \u001b[49m\u001b[43menabled_drivers\u001b[49m\u001b[38;5;241;43m=\u001b[39;49m\u001b[43menabled_drivers\u001b[49m\u001b[43m,\u001b[49m\n\u001b[1;32m    299\u001b[0m \u001b[43m        \u001b[49m\u001b[43mallow_unsupported_drivers\u001b[49m\u001b[38;5;241;43m=\u001b[39;49m\u001b[43mallow_unsupported_drivers\u001b[49m\u001b[43m,\u001b[49m\n\u001b[1;32m    300\u001b[0m \u001b[43m        \u001b[49m\u001b[38;5;241;43m*\u001b[39;49m\u001b[38;5;241;43m*\u001b[39;49m\u001b[43mkwargs\u001b[49m\n\u001b[1;32m    301\u001b[0m \u001b[43m    \u001b[49m\u001b[43m)\u001b[49m\n\u001b[1;32m    302\u001b[0m \u001b[38;5;28;01melif\u001b[39;00m mode \u001b[38;5;241m==\u001b[39m \u001b[38;5;124m\"\u001b[39m\u001b[38;5;124mw\u001b[39m\u001b[38;5;124m\"\u001b[39m:\n\u001b[1;32m    303\u001b[0m     colxn \u001b[38;5;241m=\u001b[39m Collection(\n\u001b[1;32m    304\u001b[0m         path,\n\u001b[1;32m    305\u001b[0m         mode,\n\u001b[0;32m   (...)\u001b[0m\n\u001b[1;32m    314\u001b[0m         \u001b[38;5;241m*\u001b[39m\u001b[38;5;241m*\u001b[39mkwargs\n\u001b[1;32m    315\u001b[0m     )\n",
      "File \u001b[0;32m~/miniconda3/envs/674_02/lib/python3.9/site-packages/fiona/collection.py:243\u001b[0m, in \u001b[0;36mCollection.__init__\u001b[0;34m(self, path, mode, driver, schema, crs, encoding, layer, vsi, archive, enabled_drivers, crs_wkt, ignore_fields, ignore_geometry, include_fields, wkt_version, allow_unsupported_drivers, **kwargs)\u001b[0m\n\u001b[1;32m    241\u001b[0m \u001b[38;5;28;01mif\u001b[39;00m \u001b[38;5;28mself\u001b[39m\u001b[38;5;241m.\u001b[39mmode \u001b[38;5;241m==\u001b[39m \u001b[38;5;124m\"\u001b[39m\u001b[38;5;124mr\u001b[39m\u001b[38;5;124m\"\u001b[39m:\n\u001b[1;32m    242\u001b[0m     \u001b[38;5;28mself\u001b[39m\u001b[38;5;241m.\u001b[39msession \u001b[38;5;241m=\u001b[39m Session()\n\u001b[0;32m--> 243\u001b[0m     \u001b[38;5;28;43mself\u001b[39;49m\u001b[38;5;241;43m.\u001b[39;49m\u001b[43msession\u001b[49m\u001b[38;5;241;43m.\u001b[39;49m\u001b[43mstart\u001b[49m\u001b[43m(\u001b[49m\u001b[38;5;28;43mself\u001b[39;49m\u001b[43m,\u001b[49m\u001b[43m \u001b[49m\u001b[38;5;241;43m*\u001b[39;49m\u001b[38;5;241;43m*\u001b[39;49m\u001b[43mkwargs\u001b[49m\u001b[43m)\u001b[49m\n\u001b[1;32m    244\u001b[0m \u001b[38;5;28;01melif\u001b[39;00m \u001b[38;5;28mself\u001b[39m\u001b[38;5;241m.\u001b[39mmode \u001b[38;5;129;01min\u001b[39;00m (\u001b[38;5;124m\"\u001b[39m\u001b[38;5;124ma\u001b[39m\u001b[38;5;124m\"\u001b[39m, \u001b[38;5;124m\"\u001b[39m\u001b[38;5;124mw\u001b[39m\u001b[38;5;124m\"\u001b[39m):\n\u001b[1;32m    245\u001b[0m     \u001b[38;5;28mself\u001b[39m\u001b[38;5;241m.\u001b[39msession \u001b[38;5;241m=\u001b[39m WritingSession()\n",
      "File \u001b[0;32mfiona/ogrext.pyx:588\u001b[0m, in \u001b[0;36mfiona.ogrext.Session.start\u001b[0;34m()\u001b[0m\n",
      "File \u001b[0;32mfiona/ogrext.pyx:143\u001b[0m, in \u001b[0;36mfiona.ogrext.gdal_open_vector\u001b[0;34m()\u001b[0m\n",
      "\u001b[0;31mDriverError\u001b[0m: ..data/ne_50m_admin_0_australia.geojson: No such file or directory"
     ]
    }
   ],
   "source": [
    "countries = gpd.read_file(\"..data/ne_50m_admin_0_australia.geojson\")\n",
    "pop_places = gpd.read_file(\"..data/ne_50m_populated_places_australia.geojson\")"
   ]
  },
  {
   "cell_type": "code",
   "execution_count": 4,
   "id": "bdeddf5d-dea5-4e47-baf7-e3a5406b016c",
   "metadata": {},
   "outputs": [],
   "source": [
    "# change default figsize\n",
    "plt.rcParams['figure.figsize'] = (14, 8)"
   ]
  },
  {
   "cell_type": "code",
   "execution_count": 5,
   "id": "e5888db7-6eff-4235-8e1d-e013e9ceaf53",
   "metadata": {},
   "outputs": [
    {
     "ename": "NameError",
     "evalue": "name 'countries' is not defined",
     "output_type": "error",
     "traceback": [
      "\u001b[0;31m---------------------------------------------------------------------------\u001b[0m",
      "\u001b[0;31mNameError\u001b[0m                                 Traceback (most recent call last)",
      "Cell \u001b[0;32mIn[5], line 7\u001b[0m\n\u001b[1;32m      4\u001b[0m border_color \u001b[38;5;241m=\u001b[39m base_color\n\u001b[1;32m      5\u001b[0m marker_color \u001b[38;5;241m=\u001b[39m \u001b[38;5;124m'\u001b[39m\u001b[38;5;124m#000000\u001b[39m\u001b[38;5;124m'\u001b[39m\n\u001b[0;32m----> 7\u001b[0m \u001b[43mcountries\u001b[49m\u001b[38;5;241m.\u001b[39mplot(ax\u001b[38;5;241m=\u001b[39max, edgecolor\u001b[38;5;241m=\u001b[39mborder_color, color\u001b[38;5;241m=\u001b[39m\u001b[38;5;124m'\u001b[39m\u001b[38;5;124m#FF0000\u001b[39m\u001b[38;5;124m'\u001b[39m, zorder\u001b[38;5;241m=\u001b[39m\u001b[38;5;241m1\u001b[39m);\n\u001b[1;32m      8\u001b[0m pop_places\u001b[38;5;241m.\u001b[39mplot(ax\u001b[38;5;241m=\u001b[39max, color\u001b[38;5;241m=\u001b[39mmarker_color, markersize\u001b[38;5;241m=\u001b[39m\u001b[38;5;241m3\u001b[39m, zorder\u001b[38;5;241m=\u001b[39m\u001b[38;5;241m2\u001b[39m)\n",
      "\u001b[0;31mNameError\u001b[0m: name 'countries' is not defined"
     ]
    },
    {
     "data": {
      "image/png": "[encoded data removed]",
      "text/plain": [
       "<Figure size 1400x800 with 1 Axes>"
      ]
     },
     "metadata": {},
     "output_type": "display_data"
    }
   ],
   "source": [
    "fig, ax = plt.subplots()\n",
    "\n",
    "base_color = '#000000'\n",
    "border_color = base_color\n",
    "marker_color = '#000000'\n",
    "\n",
    "countries.plot(ax=ax, edgecolor=border_color, color='#FF0000', zorder=1);\n",
    "pop_places.plot(ax=ax, color=marker_color, markersize=3, zorder=2);"
   ]
  },
  {
   "cell_type": "markdown",
   "id": "2dca350c-d68a-415b-baaf-585a14b8d80d",
   "metadata": {},
   "source": [
    "## Clipping points\n",
    "In this section, I will clip the points for Australia."
   ]
  },
  {
   "cell_type": "markdown",
   "id": "abcca767-10b2-455c-9866-007f3aeb3c48",
   "metadata": {},
   "source": [
    "### Setting up the plot\n",
    "In this section, I will set up the plot for Australia."
   ]
  },
  {
   "cell_type": "code",
   "execution_count": 6,
   "id": "b32f06c1-6020-4484-a5a1-b9817ad213c0",
   "metadata": {},
   "outputs": [
    {
     "ename": "NameError",
     "evalue": "name 'countries' is not defined",
     "output_type": "error",
     "traceback": [
      "\u001b[0;31m---------------------------------------------------------------------------\u001b[0m",
      "\u001b[0;31mNameError\u001b[0m                                 Traceback (most recent call last)",
      "Cell \u001b[0;32mIn[6], line 1\u001b[0m\n\u001b[0;32m----> 1\u001b[0m australia \u001b[38;5;241m=\u001b[39m \u001b[43mcountries\u001b[49m\u001b[38;5;241m.\u001b[39mloc[countries[\u001b[38;5;124m'\u001b[39m\u001b[38;5;124mNAME\u001b[39m\u001b[38;5;124m'\u001b[39m] \u001b[38;5;241m==\u001b[39m \u001b[38;5;124m'\u001b[39m\u001b[38;5;124mAustralia\u001b[39m\u001b[38;5;124m'\u001b[39m]\n\u001b[1;32m      2\u001b[0m australia\u001b[38;5;241m.\u001b[39mplot()\n",
      "\u001b[0;31mNameError\u001b[0m: name 'countries' is not defined"
     ]
    }
   ],
   "source": [
    "australia = countries.loc[countries['NAME'] == 'Australia']\n",
    "australia.plot(); "
   ]
  },
  {
   "cell_type": "code",
   "execution_count": 7,
   "id": "d6cdc5dc-a9ae-4bdf-ae0d-2ad99ae13718",
   "metadata": {},
   "outputs": [
    {
     "ename": "NameError",
     "evalue": "name 'australia' is not defined",
     "output_type": "error",
     "traceback": [
      "\u001b[0;31m---------------------------------------------------------------------------\u001b[0m",
      "\u001b[0;31mNameError\u001b[0m                                 Traceback (most recent call last)",
      "Cell \u001b[0;32mIn[7], line 1\u001b[0m\n\u001b[0;32m----> 1\u001b[0m \u001b[43maustralia\u001b[49m\u001b[38;5;241m.\u001b[39mgeom_type\u001b[38;5;241m.\u001b[39munique()\n",
      "\u001b[0;31mNameError\u001b[0m: name 'australia' is not defined"
     ]
    }
   ],
   "source": [
    "australia.geom_type.unique()"
   ]
  },
  {
   "cell_type": "code",
   "execution_count": 8,
   "id": "8767650e-66c9-452a-8649-7f533b06a173",
   "metadata": {},
   "outputs": [
    {
     "ename": "NameError",
     "evalue": "name 'australia' is not defined",
     "output_type": "error",
     "traceback": [
      "\u001b[0;31m---------------------------------------------------------------------------\u001b[0m",
      "\u001b[0;31mNameError\u001b[0m                                 Traceback (most recent call last)",
      "Cell \u001b[0;32mIn[8], line 2\u001b[0m\n\u001b[1;32m      1\u001b[0m \u001b[38;5;66;03m# use unary_union to combine polygons into single\u001b[39;00m\n\u001b[0;32m----> 2\u001b[0m australia_poly \u001b[38;5;241m=\u001b[39m \u001b[43maustralia\u001b[49m\u001b[38;5;241m.\u001b[39mgeometry\u001b[38;5;241m.\u001b[39munary_union\n",
      "\u001b[0;31mNameError\u001b[0m: name 'australia' is not defined"
     ]
    }
   ],
   "source": [
    "# use unary_union to combine polygons into single\n",
    "australia_poly = australia.geometry.unary_union"
   ]
  },
  {
   "cell_type": "code",
   "execution_count": 9,
   "id": "acdfed55-7b22-416e-b59f-2ef8c8ffb50b",
   "metadata": {},
   "outputs": [
    {
     "ename": "NameError",
     "evalue": "name 'pop_places' is not defined",
     "output_type": "error",
     "traceback": [
      "\u001b[0;31m---------------------------------------------------------------------------\u001b[0m",
      "\u001b[0;31mNameError\u001b[0m                                 Traceback (most recent call last)",
      "Cell \u001b[0;32mIn[9], line 2\u001b[0m\n\u001b[1;32m      1\u001b[0m \u001b[38;5;66;03m# create new GeoDataFrame of points that intersect with the clipping polygon\u001b[39;00m\n\u001b[0;32m----> 2\u001b[0m australia_places \u001b[38;5;241m=\u001b[39m \u001b[43mpop_places\u001b[49m[pop_places\u001b[38;5;241m.\u001b[39mgeometry\u001b[38;5;241m.\u001b[39mintersects(australia_poly)]\n",
      "\u001b[0;31mNameError\u001b[0m: name 'pop_places' is not defined"
     ]
    }
   ],
   "source": [
    "# create new GeoDataFrame of points that intersect with the clipping polygon\n",
    "australia_places = pop_places[pop_places.geometry.intersects(australia_poly)]"
   ]
  },
  {
   "cell_type": "code",
   "execution_count": 10,
   "id": "3d4a7fe2-92a6-4808-a6c7-2b7dd60ce3f6",
   "metadata": {},
   "outputs": [
    {
     "ename": "NameError",
     "evalue": "name 'australia' is not defined",
     "output_type": "error",
     "traceback": [
      "\u001b[0;31m---------------------------------------------------------------------------\u001b[0m",
      "\u001b[0;31mNameError\u001b[0m                                 Traceback (most recent call last)",
      "Cell \u001b[0;32mIn[10], line 6\u001b[0m\n\u001b[1;32m      3\u001b[0m base_color \u001b[38;5;241m=\u001b[39m \u001b[38;5;124m'\u001b[39m\u001b[38;5;124m#f0f0f0\u001b[39m\u001b[38;5;124m'\u001b[39m\n\u001b[1;32m      4\u001b[0m marker_color \u001b[38;5;241m=\u001b[39m \u001b[38;5;124m'\u001b[39m\u001b[38;5;124m#448ee4\u001b[39m\u001b[38;5;124m'\u001b[39m\n\u001b[0;32m----> 6\u001b[0m \u001b[43maustralia\u001b[49m\u001b[38;5;241m.\u001b[39mplot(ax\u001b[38;5;241m=\u001b[39max, color\u001b[38;5;241m=\u001b[39mbase_color, zorder\u001b[38;5;241m=\u001b[39m\u001b[38;5;241m0\u001b[39m);\n\u001b[1;32m      7\u001b[0m australia_places\u001b[38;5;241m.\u001b[39mplot(ax\u001b[38;5;241m=\u001b[39max, color\u001b[38;5;241m=\u001b[39mmarker_color, markersize\u001b[38;5;241m=\u001b[39m\u001b[38;5;241m10\u001b[39m, zorder\u001b[38;5;241m=\u001b[39m\u001b[38;5;241m1\u001b[39m)\n",
      "\u001b[0;31mNameError\u001b[0m: name 'australia' is not defined"
     ]
    },
    {
     "data": {
      "image/png": "[encoded data removed]",
      "text/plain": [
       "<Figure size 1400x800 with 1 Axes>"
      ]
     },
     "metadata": {},
     "output_type": "display_data"
    }
   ],
   "source": [
    "fig, ax = plt.subplots()\n",
    "\n",
    "base_color = '#f0f0f0'\n",
    "marker_color = '#448ee4'\n",
    "\n",
    "australia.plot(ax=ax, color=base_color, zorder=0);\n",
    "australia_places.plot(ax=ax, color=marker_color, markersize=10, zorder=1);"
   ]
  },
  {
   "cell_type": "markdown",
   "id": "dfedd7bf-d222-4c7c-a9bc-60062b205ff6",
   "metadata": {},
   "source": [
    "### Clipping the points\n",
    "This shows how I clipped the points of major cities in Australia."
   ]
  },
  {
   "cell_type": "code",
   "execution_count": 11,
   "id": "1a350798-1ad1-4775-afe2-99bca252f81a",
   "metadata": {},
   "outputs": [
    {
     "ename": "NameError",
     "evalue": "name 'australia' is not defined",
     "output_type": "error",
     "traceback": [
      "\u001b[0;31m---------------------------------------------------------------------------\u001b[0m",
      "\u001b[0;31mNameError\u001b[0m                                 Traceback (most recent call last)",
      "Cell \u001b[0;32mIn[11], line 6\u001b[0m\n\u001b[1;32m      3\u001b[0m base_color \u001b[38;5;241m=\u001b[39m \u001b[38;5;124m'\u001b[39m\u001b[38;5;124m#f0f0f0\u001b[39m\u001b[38;5;124m'\u001b[39m\n\u001b[1;32m      4\u001b[0m marker_color \u001b[38;5;241m=\u001b[39m \u001b[38;5;124m'\u001b[39m\u001b[38;5;124m#448ee4\u001b[39m\u001b[38;5;124m'\u001b[39m\n\u001b[0;32m----> 6\u001b[0m \u001b[43maustralia\u001b[49m\u001b[38;5;241m.\u001b[39mplot(ax\u001b[38;5;241m=\u001b[39max, color\u001b[38;5;241m=\u001b[39mbase_color, zorder\u001b[38;5;241m=\u001b[39m\u001b[38;5;241m0\u001b[39m);\n\u001b[1;32m      7\u001b[0m australia_places\u001b[38;5;241m.\u001b[39mplot(ax\u001b[38;5;241m=\u001b[39max, color\u001b[38;5;241m=\u001b[39mmarker_color, markersize\u001b[38;5;241m=\u001b[39m\u001b[38;5;241m20\u001b[39m, zorder\u001b[38;5;241m=\u001b[39m\u001b[38;5;241m1\u001b[39m);\n\u001b[1;32m      9\u001b[0m australia_places\u001b[38;5;241m.\u001b[39mapply(\u001b[38;5;28;01mlambda\u001b[39;00m x: ax\u001b[38;5;241m.\u001b[39mannotate(text\u001b[38;5;241m=\u001b[39mx[\u001b[38;5;124m'\u001b[39m\u001b[38;5;124mNAME\u001b[39m\u001b[38;5;124m'\u001b[39m],\n\u001b[1;32m     10\u001b[0m                                   xy\u001b[38;5;241m=\u001b[39mx\u001b[38;5;241m.\u001b[39mgeometry\u001b[38;5;241m.\u001b[39mcoords[\u001b[38;5;241m0\u001b[39m],\n\u001b[1;32m     11\u001b[0m                                   xytext\u001b[38;5;241m=\u001b[39m(\u001b[38;5;241m6\u001b[39m, \u001b[38;5;241m6\u001b[39m),\n\u001b[1;32m     12\u001b[0m                                   textcoords\u001b[38;5;241m=\u001b[39m\u001b[38;5;124m\"\u001b[39m\u001b[38;5;124moffset points\u001b[39m\u001b[38;5;124m\"\u001b[39m),\n\u001b[1;32m     13\u001b[0m                               axis\u001b[38;5;241m=\u001b[39m\u001b[38;5;241m1\u001b[39m)\n",
      "\u001b[0;31mNameError\u001b[0m: name 'australia' is not defined"
     ]
    },
    {
     "data": {
      "image/png": "[encoded data removed]",
      "text/plain": [
       "<Figure size 1400x800 with 1 Axes>"
      ]
     },
     "metadata": {},
     "output_type": "display_data"
    }
   ],
   "source": [
    "fig, ax = plt.subplots()\n",
    "\n",
    "base_color = '#f0f0f0'\n",
    "marker_color = '#448ee4'\n",
    "\n",
    "australia.plot(ax=ax, color=base_color, zorder=0);\n",
    "australia_places.plot(ax=ax, color=marker_color, markersize=20, zorder=1);\n",
    "\n",
    "australia_places.apply(lambda x: ax.annotate(text=x['NAME'],\n",
    "                                  xy=x.geometry.coords[0],\n",
    "                                  xytext=(6, 6),\n",
    "                                  textcoords=\"offset points\"),\n",
    "                              axis=1);"
   ]
  },
  {
   "cell_type": "markdown",
   "id": "8d6e1301-a416-414d-9f47-f61322ee9d2f",
   "metadata": {},
   "source": [
    "## Leafmap\n",
    "This section will show how I apply Leafmap with the map of Australia. I followed the steps from <a href=\"https://leafmap.org/get-started/\">this link as</a> a guide to create several Leafmap examples."
   ]
  },
  {
   "cell_type": "markdown",
   "id": "308697ea-ad3d-4f74-9684-7067fc228153",
   "metadata": {},
   "source": [
    "### Simple leafmap\n",
    "This example below is a simple leafmap I created for Australia."
   ]
  },
  {
   "cell_type": "code",
   "execution_count": 12,
   "id": "3b25888a-a801-49ab-b554-89e6fb3849d7",
   "metadata": {},
   "outputs": [
    {
     "data": {
      "application/vnd.jupyter.widget-view+json": {
       "model_id": "7e15d5a11cc54c16b96727d209e535b7",
       "version_major": 2,
       "version_minor": 0
      },
      "text/plain": [
       "Map(center=[-25, 133], controls=(ZoomControl(options=['position', 'zoom_in_text', 'zoom_in_title', 'zoom_out_t…"
      ]
     },
     "execution_count": 12,
     "metadata": {},
     "output_type": "execute_result"
    }
   ],
   "source": [
    "import leafmap\n",
    "m = leafmap.Map(center=(-25, 133), zoom=4)\n",
    "m"
   ]
  },
  {
   "cell_type": "markdown",
   "id": "9ff89567-1d81-448f-ae35-a16bc3aa49bf",
   "metadata": {},
   "source": [
    "### Topo map\n",
    "In this section, I will create Australia as a top map. To do this, I use the following example below and once it's run, it produces the map."
   ]
  },
  {
   "cell_type": "code",
   "execution_count": 13,
   "id": "b5f1603a-5706-4c6a-8f60-23dfb7922e89",
   "metadata": {},
   "outputs": [
    {
     "data": {
      "application/vnd.jupyter.widget-view+json": {
       "model_id": "45604a86dcf7461cbe2c6c5444000679",
       "version_major": 2,
       "version_minor": 0
      },
      "text/plain": [
       "Map(center=[-25, 133], controls=(ZoomControl(options=['position', 'zoom_in_text', 'zoom_in_title', 'zoom_out_t…"
      ]
     },
     "execution_count": 13,
     "metadata": {},
     "output_type": "execute_result"
    }
   ],
   "source": [
    "m = leafmap.Map(center=(-25, 133), zoom=4)\n",
    "m.add_basemap(\"OpenTopoMap\")\n",
    "m"
   ]
  },
  {
   "cell_type": "markdown",
   "id": "da36d0fc-af25-477b-af27-ff5198102f51",
   "metadata": {},
   "source": [
    "## Using CSV data\n",
    "I will use the stuff I learned from the pandas module and use CSV data. In this case, I will be using data that focuses on the natural gas intensity of suburbs in Sydney. The link to the file is <a href=\"https://data.cityofsydney.nsw.gov.au/datasets/aa271eb7bd3248b4b237bb373da37062_0/explore\">here</a>. This might also involve some plot charts as well."
   ]
  },
  {
   "cell_type": "code",
   "execution_count": 14,
   "id": "028ff1e8-1917-49c3-b635-8a26dcc08fb4",
   "metadata": {},
   "outputs": [],
   "source": [
    "natural_gas_df = pd.read_csv('/Users/markmarji/Documents/GitHub/Final-Project-MAP674/data/Natural_gas_intensity_by_suburb.csv') "
   ]
  },
  {
   "cell_type": "code",
   "execution_count": 15,
   "id": "8f617759-76e3-4222-bf73-66c575e12ec6",
   "metadata": {},
   "outputs": [
    {
     "data": {
      "text/html": [
       "<div>\n",
       "<style scoped>\n",
       "    .dataframe tbody tr th:only-of-type {\n",
       "        vertical-align: middle;\n",
       "    }\n",
       "\n",
       "    .dataframe tbody tr th {\n",
       "        vertical-align: top;\n",
       "    }\n",
       "\n",
       "    .dataframe thead th {\n",
       "        text-align: right;\n",
       "    }\n",
       "</style>\n",
       "<table border=\"1\" class=\"dataframe\">\n",
       "  <thead>\n",
       "    <tr style=\"text-align: right;\">\n",
       "      <th></th>\n",
       "      <th>FID</th>\n",
       "      <th>NAME</th>\n",
       "      <th>F2005_06</th>\n",
       "      <th>F2006_07</th>\n",
       "      <th>F2007_08</th>\n",
       "      <th>F2008_09</th>\n",
       "      <th>F2009_10</th>\n",
       "      <th>F2010_11</th>\n",
       "      <th>F2011_12</th>\n",
       "      <th>F2012_13</th>\n",
       "      <th>F2013_14</th>\n",
       "      <th>F2014_15</th>\n",
       "      <th>F2015_16</th>\n",
       "      <th>F2016_17</th>\n",
       "      <th>F2017_18</th>\n",
       "      <th>F2018_19</th>\n",
       "      <th>Shape__Area</th>\n",
       "      <th>Shape__Length</th>\n",
       "    </tr>\n",
       "  </thead>\n",
       "  <tbody>\n",
       "    <tr>\n",
       "      <th>0</th>\n",
       "      <td>1</td>\n",
       "      <td>Alexandria</td>\n",
       "      <td>42.699389</td>\n",
       "      <td>42.737589</td>\n",
       "      <td>43.899875</td>\n",
       "      <td>44.723233</td>\n",
       "      <td>45.075493</td>\n",
       "      <td>45.333445</td>\n",
       "      <td>46.198464</td>\n",
       "      <td>46.038964</td>\n",
       "      <td>45.984943</td>\n",
       "      <td>47.541577</td>\n",
       "      <td>47.307777</td>\n",
       "      <td>46.409201</td>\n",
       "      <td>47.639341</td>\n",
       "      <td>44.800826</td>\n",
       "      <td>5.129712e+06</td>\n",
       "      <td>12267.960868</td>\n",
       "    </tr>\n",
       "    <tr>\n",
       "      <th>1</th>\n",
       "      <td>2</td>\n",
       "      <td>Forest Lodge + Annandale</td>\n",
       "      <td>90.708791</td>\n",
       "      <td>87.590122</td>\n",
       "      <td>83.688848</td>\n",
       "      <td>75.311548</td>\n",
       "      <td>65.288680</td>\n",
       "      <td>54.395945</td>\n",
       "      <td>47.187422</td>\n",
       "      <td>40.732716</td>\n",
       "      <td>38.227136</td>\n",
       "      <td>37.171782</td>\n",
       "      <td>36.380251</td>\n",
       "      <td>35.692000</td>\n",
       "      <td>51.808575</td>\n",
       "      <td>62.339334</td>\n",
       "      <td>7.939478e+05</td>\n",
       "      <td>6817.416736</td>\n",
       "    </tr>\n",
       "    <tr>\n",
       "      <th>2</th>\n",
       "      <td>3</td>\n",
       "      <td>Millers Point + Barangaroo</td>\n",
       "      <td>55.348469</td>\n",
       "      <td>55.105834</td>\n",
       "      <td>61.499485</td>\n",
       "      <td>67.005499</td>\n",
       "      <td>72.065515</td>\n",
       "      <td>77.941762</td>\n",
       "      <td>87.220520</td>\n",
       "      <td>70.375023</td>\n",
       "      <td>59.722931</td>\n",
       "      <td>54.019767</td>\n",
       "      <td>49.252598</td>\n",
       "      <td>45.723442</td>\n",
       "      <td>51.186291</td>\n",
       "      <td>50.308036</td>\n",
       "      <td>6.739312e+05</td>\n",
       "      <td>4760.147743</td>\n",
       "    </tr>\n",
       "    <tr>\n",
       "      <th>3</th>\n",
       "      <td>4</td>\n",
       "      <td>Beaconsfield</td>\n",
       "      <td>50.157219</td>\n",
       "      <td>50.076656</td>\n",
       "      <td>53.604814</td>\n",
       "      <td>55.008900</td>\n",
       "      <td>55.364385</td>\n",
       "      <td>55.646268</td>\n",
       "      <td>57.088845</td>\n",
       "      <td>58.288753</td>\n",
       "      <td>59.425112</td>\n",
       "      <td>62.500420</td>\n",
       "      <td>64.945387</td>\n",
       "      <td>64.173608</td>\n",
       "      <td>61.883877</td>\n",
       "      <td>59.439430</td>\n",
       "      <td>2.438067e+05</td>\n",
       "      <td>2313.919409</td>\n",
       "    </tr>\n",
       "    <tr>\n",
       "      <th>4</th>\n",
       "      <td>5</td>\n",
       "      <td>Camperdown</td>\n",
       "      <td>132.766754</td>\n",
       "      <td>131.293895</td>\n",
       "      <td>129.555255</td>\n",
       "      <td>125.479377</td>\n",
       "      <td>120.690369</td>\n",
       "      <td>115.778241</td>\n",
       "      <td>113.424804</td>\n",
       "      <td>110.957617</td>\n",
       "      <td>110.097017</td>\n",
       "      <td>112.502182</td>\n",
       "      <td>110.564950</td>\n",
       "      <td>108.502906</td>\n",
       "      <td>112.574690</td>\n",
       "      <td>111.788042</td>\n",
       "      <td>1.561043e+06</td>\n",
       "      <td>6036.699734</td>\n",
       "    </tr>\n",
       "  </tbody>\n",
       "</table>\n",
       "</div>"
      ],
      "text/plain": [
       "   FID                        NAME    F2005_06    F2006_07    F2007_08  \\\n",
       "0    1                  Alexandria   42.699389   42.737589   43.899875   \n",
       "1    2    Forest Lodge + Annandale   90.708791   87.590122   83.688848   \n",
       "2    3  Millers Point + Barangaroo   55.348469   55.105834   61.499485   \n",
       "3    4                Beaconsfield   50.157219   50.076656   53.604814   \n",
       "4    5                  Camperdown  132.766754  131.293895  129.555255   \n",
       "\n",
       "     F2008_09    F2009_10    F2010_11    F2011_12    F2012_13    F2013_14  \\\n",
       "0   44.723233   45.075493   45.333445   46.198464   46.038964   45.984943   \n",
       "1   75.311548   65.288680   54.395945   47.187422   40.732716   38.227136   \n",
       "2   67.005499   72.065515   77.941762   87.220520   70.375023   59.722931   \n",
       "3   55.008900   55.364385   55.646268   57.088845   58.288753   59.425112   \n",
       "4  125.479377  120.690369  115.778241  113.424804  110.957617  110.097017   \n",
       "\n",
       "     F2014_15    F2015_16    F2016_17    F2017_18    F2018_19   Shape__Area  \\\n",
       "0   47.541577   47.307777   46.409201   47.639341   44.800826  5.129712e+06   \n",
       "1   37.171782   36.380251   35.692000   51.808575   62.339334  7.939478e+05   \n",
       "2   54.019767   49.252598   45.723442   51.186291   50.308036  6.739312e+05   \n",
       "3   62.500420   64.945387   64.173608   61.883877   59.439430  2.438067e+05   \n",
       "4  112.502182  110.564950  108.502906  112.574690  111.788042  1.561043e+06   \n",
       "\n",
       "   Shape__Length  \n",
       "0   12267.960868  \n",
       "1    6817.416736  \n",
       "2    4760.147743  \n",
       "3    2313.919409  \n",
       "4    6036.699734  "
      ]
     },
     "execution_count": 15,
     "metadata": {},
     "output_type": "execute_result"
    }
   ],
   "source": [
    "natural_gas_df.head()"
   ]
  },
  {
   "cell_type": "code",
   "execution_count": 16,
   "id": "9a849dbb-0be4-4739-9be7-b1cfa77291d5",
   "metadata": {},
   "outputs": [
    {
     "data": {
      "text/html": [
       "<div>\n",
       "<style scoped>\n",
       "    .dataframe tbody tr th:only-of-type {\n",
       "        vertical-align: middle;\n",
       "    }\n",
       "\n",
       "    .dataframe tbody tr th {\n",
       "        vertical-align: top;\n",
       "    }\n",
       "\n",
       "    .dataframe thead th {\n",
       "        text-align: right;\n",
       "    }\n",
       "</style>\n",
       "<table border=\"1\" class=\"dataframe\">\n",
       "  <thead>\n",
       "    <tr style=\"text-align: right;\">\n",
       "      <th></th>\n",
       "      <th>FID</th>\n",
       "      <th>NAME</th>\n",
       "      <th>F2005_06</th>\n",
       "      <th>F2006_07</th>\n",
       "      <th>F2007_08</th>\n",
       "      <th>F2008_09</th>\n",
       "      <th>F2009_10</th>\n",
       "      <th>F2010_11</th>\n",
       "      <th>F2011_12</th>\n",
       "      <th>F2012_13</th>\n",
       "      <th>F2013_14</th>\n",
       "      <th>F2014_15</th>\n",
       "      <th>F2015_16</th>\n",
       "      <th>F2016_17</th>\n",
       "      <th>F2017_18</th>\n",
       "      <th>F2018_19</th>\n",
       "      <th>Shape__Area</th>\n",
       "      <th>Shape__Length</th>\n",
       "    </tr>\n",
       "  </thead>\n",
       "  <tbody>\n",
       "    <tr>\n",
       "      <th>24</th>\n",
       "      <td>25</td>\n",
       "      <td>Sydney</td>\n",
       "      <td>69.885309</td>\n",
       "      <td>69.820684</td>\n",
       "      <td>71.626104</td>\n",
       "      <td>72.777900</td>\n",
       "      <td>73.511002</td>\n",
       "      <td>74.110244</td>\n",
       "      <td>75.571057</td>\n",
       "      <td>75.697700</td>\n",
       "      <td>76.284453</td>\n",
       "      <td>79.310218</td>\n",
       "      <td>79.309764</td>\n",
       "      <td>77.532434</td>\n",
       "      <td>78.274728</td>\n",
       "      <td>74.119234</td>\n",
       "      <td>4.251640e+06</td>\n",
       "      <td>15013.924882</td>\n",
       "    </tr>\n",
       "    <tr>\n",
       "      <th>25</th>\n",
       "      <td>26</td>\n",
       "      <td>The Rocks</td>\n",
       "      <td>121.028525</td>\n",
       "      <td>121.137169</td>\n",
       "      <td>123.373850</td>\n",
       "      <td>124.663160</td>\n",
       "      <td>125.530135</td>\n",
       "      <td>126.068453</td>\n",
       "      <td>127.568613</td>\n",
       "      <td>127.322924</td>\n",
       "      <td>127.772343</td>\n",
       "      <td>132.938669</td>\n",
       "      <td>132.253196</td>\n",
       "      <td>124.637603</td>\n",
       "      <td>116.797010</td>\n",
       "      <td>107.423574</td>\n",
       "      <td>3.091627e+05</td>\n",
       "      <td>3549.528034</td>\n",
       "    </tr>\n",
       "    <tr>\n",
       "      <th>26</th>\n",
       "      <td>27</td>\n",
       "      <td>Ultimo</td>\n",
       "      <td>69.382743</td>\n",
       "      <td>69.281243</td>\n",
       "      <td>71.278519</td>\n",
       "      <td>72.642694</td>\n",
       "      <td>72.881911</td>\n",
       "      <td>72.986345</td>\n",
       "      <td>74.530149</td>\n",
       "      <td>74.594192</td>\n",
       "      <td>74.800190</td>\n",
       "      <td>77.624406</td>\n",
       "      <td>78.726757</td>\n",
       "      <td>76.045701</td>\n",
       "      <td>72.931946</td>\n",
       "      <td>68.616143</td>\n",
       "      <td>8.140791e+05</td>\n",
       "      <td>4006.055240</td>\n",
       "    </tr>\n",
       "    <tr>\n",
       "      <th>27</th>\n",
       "      <td>28</td>\n",
       "      <td>Woolloomooloo</td>\n",
       "      <td>81.682391</td>\n",
       "      <td>81.189867</td>\n",
       "      <td>84.518464</td>\n",
       "      <td>86.836307</td>\n",
       "      <td>87.552551</td>\n",
       "      <td>88.156037</td>\n",
       "      <td>90.911718</td>\n",
       "      <td>90.533546</td>\n",
       "      <td>90.491818</td>\n",
       "      <td>93.696467</td>\n",
       "      <td>95.609490</td>\n",
       "      <td>91.844314</td>\n",
       "      <td>88.467179</td>\n",
       "      <td>84.324970</td>\n",
       "      <td>5.987029e+05</td>\n",
       "      <td>5148.999526</td>\n",
       "    </tr>\n",
       "    <tr>\n",
       "      <th>28</th>\n",
       "      <td>29</td>\n",
       "      <td>Zetland</td>\n",
       "      <td>45.486261</td>\n",
       "      <td>46.164084</td>\n",
       "      <td>48.861159</td>\n",
       "      <td>51.755598</td>\n",
       "      <td>53.188440</td>\n",
       "      <td>54.397838</td>\n",
       "      <td>56.729046</td>\n",
       "      <td>51.995728</td>\n",
       "      <td>47.814191</td>\n",
       "      <td>46.157784</td>\n",
       "      <td>43.773009</td>\n",
       "      <td>48.849439</td>\n",
       "      <td>78.107103</td>\n",
       "      <td>92.899936</td>\n",
       "      <td>1.165677e+06</td>\n",
       "      <td>4386.329175</td>\n",
       "    </tr>\n",
       "  </tbody>\n",
       "</table>\n",
       "</div>"
      ],
      "text/plain": [
       "    FID           NAME    F2005_06    F2006_07    F2007_08    F2008_09  \\\n",
       "24   25         Sydney   69.885309   69.820684   71.626104   72.777900   \n",
       "25   26      The Rocks  121.028525  121.137169  123.373850  124.663160   \n",
       "26   27         Ultimo   69.382743   69.281243   71.278519   72.642694   \n",
       "27   28  Woolloomooloo   81.682391   81.189867   84.518464   86.836307   \n",
       "28   29        Zetland   45.486261   46.164084   48.861159   51.755598   \n",
       "\n",
       "      F2009_10    F2010_11    F2011_12    F2012_13    F2013_14    F2014_15  \\\n",
       "24   73.511002   74.110244   75.571057   75.697700   76.284453   79.310218   \n",
       "25  125.530135  126.068453  127.568613  127.322924  127.772343  132.938669   \n",
       "26   72.881911   72.986345   74.530149   74.594192   74.800190   77.624406   \n",
       "27   87.552551   88.156037   90.911718   90.533546   90.491818   93.696467   \n",
       "28   53.188440   54.397838   56.729046   51.995728   47.814191   46.157784   \n",
       "\n",
       "      F2015_16    F2016_17    F2017_18    F2018_19   Shape__Area  \\\n",
       "24   79.309764   77.532434   78.274728   74.119234  4.251640e+06   \n",
       "25  132.253196  124.637603  116.797010  107.423574  3.091627e+05   \n",
       "26   78.726757   76.045701   72.931946   68.616143  8.140791e+05   \n",
       "27   95.609490   91.844314   88.467179   84.324970  5.987029e+05   \n",
       "28   43.773009   48.849439   78.107103   92.899936  1.165677e+06   \n",
       "\n",
       "    Shape__Length  \n",
       "24   15013.924882  \n",
       "25    3549.528034  \n",
       "26    4006.055240  \n",
       "27    5148.999526  \n",
       "28    4386.329175  "
      ]
     },
     "execution_count": 16,
     "metadata": {},
     "output_type": "execute_result"
    }
   ],
   "source": [
    "natural_gas_df.tail()"
   ]
  },
  {
   "cell_type": "code",
   "execution_count": 17,
   "id": "4986680c-bd2f-45cf-9945-5f562e9f4804",
   "metadata": {},
   "outputs": [
    {
     "name": "stdout",
     "output_type": "stream",
     "text": [
      "<class 'pandas.core.frame.DataFrame'>\n",
      "RangeIndex: 29 entries, 0 to 28\n",
      "Data columns (total 18 columns):\n",
      " #   Column         Non-Null Count  Dtype  \n",
      "---  ------         --------------  -----  \n",
      " 0   FID            29 non-null     int64  \n",
      " 1   NAME           29 non-null     object \n",
      " 2   F2005_06       29 non-null     float64\n",
      " 3   F2006_07       29 non-null     float64\n",
      " 4   F2007_08       29 non-null     float64\n",
      " 5   F2008_09       29 non-null     float64\n",
      " 6   F2009_10       29 non-null     float64\n",
      " 7   F2010_11       29 non-null     float64\n",
      " 8   F2011_12       29 non-null     float64\n",
      " 9   F2012_13       29 non-null     float64\n",
      " 10  F2013_14       29 non-null     float64\n",
      " 11  F2014_15       29 non-null     float64\n",
      " 12  F2015_16       29 non-null     float64\n",
      " 13  F2016_17       29 non-null     float64\n",
      " 14  F2017_18       29 non-null     float64\n",
      " 15  F2018_19       29 non-null     float64\n",
      " 16  Shape__Area    29 non-null     float64\n",
      " 17  Shape__Length  29 non-null     float64\n",
      "dtypes: float64(16), int64(1), object(1)\n",
      "memory usage: 4.2+ KB\n"
     ]
    }
   ],
   "source": [
    "# Get info about the DataFrame\n",
    "natural_gas_df.info()"
   ]
  },
  {
   "cell_type": "code",
   "execution_count": 18,
   "id": "4db7a65c-3351-4538-b98b-9362592afd43",
   "metadata": {},
   "outputs": [
    {
     "data": {
      "text/html": [
       "<div>\n",
       "<style scoped>\n",
       "    .dataframe tbody tr th:only-of-type {\n",
       "        vertical-align: middle;\n",
       "    }\n",
       "\n",
       "    .dataframe tbody tr th {\n",
       "        vertical-align: top;\n",
       "    }\n",
       "\n",
       "    .dataframe thead th {\n",
       "        text-align: right;\n",
       "    }\n",
       "</style>\n",
       "<table border=\"1\" class=\"dataframe\">\n",
       "  <thead>\n",
       "    <tr style=\"text-align: right;\">\n",
       "      <th></th>\n",
       "      <th>FID</th>\n",
       "      <th>F2005_06</th>\n",
       "      <th>F2006_07</th>\n",
       "      <th>F2007_08</th>\n",
       "      <th>F2008_09</th>\n",
       "      <th>F2009_10</th>\n",
       "      <th>F2010_11</th>\n",
       "      <th>F2011_12</th>\n",
       "      <th>F2012_13</th>\n",
       "      <th>F2013_14</th>\n",
       "      <th>F2014_15</th>\n",
       "      <th>F2015_16</th>\n",
       "      <th>F2016_17</th>\n",
       "      <th>F2017_18</th>\n",
       "      <th>F2018_19</th>\n",
       "      <th>Shape__Area</th>\n",
       "      <th>Shape__Length</th>\n",
       "    </tr>\n",
       "  </thead>\n",
       "  <tbody>\n",
       "    <tr>\n",
       "      <th>count</th>\n",
       "      <td>29.000000</td>\n",
       "      <td>29.000000</td>\n",
       "      <td>29.000000</td>\n",
       "      <td>29.000000</td>\n",
       "      <td>29.000000</td>\n",
       "      <td>29.000000</td>\n",
       "      <td>29.000000</td>\n",
       "      <td>29.000000</td>\n",
       "      <td>29.000000</td>\n",
       "      <td>29.000000</td>\n",
       "      <td>29.000000</td>\n",
       "      <td>29.000000</td>\n",
       "      <td>29.000000</td>\n",
       "      <td>29.000000</td>\n",
       "      <td>29.000000</td>\n",
       "      <td>2.900000e+01</td>\n",
       "      <td>29.000000</td>\n",
       "    </tr>\n",
       "    <tr>\n",
       "      <th>mean</th>\n",
       "      <td>15.000000</td>\n",
       "      <td>77.761780</td>\n",
       "      <td>77.448827</td>\n",
       "      <td>80.335606</td>\n",
       "      <td>81.305082</td>\n",
       "      <td>80.868923</td>\n",
       "      <td>80.316605</td>\n",
       "      <td>81.598809</td>\n",
       "      <td>81.111111</td>\n",
       "      <td>81.243425</td>\n",
       "      <td>84.399059</td>\n",
       "      <td>85.273848</td>\n",
       "      <td>83.035065</td>\n",
       "      <td>83.880185</td>\n",
       "      <td>82.014342</td>\n",
       "      <td>1.338230e+06</td>\n",
       "      <td>6019.926504</td>\n",
       "    </tr>\n",
       "    <tr>\n",
       "      <th>std</th>\n",
       "      <td>8.514693</td>\n",
       "      <td>25.086396</td>\n",
       "      <td>24.807592</td>\n",
       "      <td>25.374841</td>\n",
       "      <td>25.099767</td>\n",
       "      <td>24.766963</td>\n",
       "      <td>24.672684</td>\n",
       "      <td>25.213503</td>\n",
       "      <td>25.893774</td>\n",
       "      <td>26.864765</td>\n",
       "      <td>28.991984</td>\n",
       "      <td>29.921497</td>\n",
       "      <td>28.467261</td>\n",
       "      <td>24.266122</td>\n",
       "      <td>22.743746</td>\n",
       "      <td>1.266281e+06</td>\n",
       "      <td>3003.621491</td>\n",
       "    </tr>\n",
       "    <tr>\n",
       "      <th>min</th>\n",
       "      <td>1.000000</td>\n",
       "      <td>26.674955</td>\n",
       "      <td>27.153826</td>\n",
       "      <td>30.321879</td>\n",
       "      <td>30.606158</td>\n",
       "      <td>30.635393</td>\n",
       "      <td>30.607010</td>\n",
       "      <td>30.515673</td>\n",
       "      <td>31.470638</td>\n",
       "      <td>32.196756</td>\n",
       "      <td>33.868368</td>\n",
       "      <td>34.780425</td>\n",
       "      <td>34.372559</td>\n",
       "      <td>39.510019</td>\n",
       "      <td>40.890350</td>\n",
       "      <td>2.013928e+05</td>\n",
       "      <td>2313.919409</td>\n",
       "    </tr>\n",
       "    <tr>\n",
       "      <th>25%</th>\n",
       "      <td>8.000000</td>\n",
       "      <td>61.799504</td>\n",
       "      <td>61.514911</td>\n",
       "      <td>63.226418</td>\n",
       "      <td>67.005499</td>\n",
       "      <td>65.288680</td>\n",
       "      <td>63.490568</td>\n",
       "      <td>64.620145</td>\n",
       "      <td>65.429946</td>\n",
       "      <td>65.301818</td>\n",
       "      <td>68.581032</td>\n",
       "      <td>65.166152</td>\n",
       "      <td>64.173608</td>\n",
       "      <td>65.522530</td>\n",
       "      <td>63.698193</td>\n",
       "      <td>5.987029e+05</td>\n",
       "      <td>3817.570308</td>\n",
       "    </tr>\n",
       "    <tr>\n",
       "      <th>50%</th>\n",
       "      <td>15.000000</td>\n",
       "      <td>75.263696</td>\n",
       "      <td>74.938076</td>\n",
       "      <td>78.344820</td>\n",
       "      <td>80.692593</td>\n",
       "      <td>79.700008</td>\n",
       "      <td>78.689475</td>\n",
       "      <td>82.785374</td>\n",
       "      <td>80.681701</td>\n",
       "      <td>76.284453</td>\n",
       "      <td>79.310218</td>\n",
       "      <td>79.309764</td>\n",
       "      <td>77.532434</td>\n",
       "      <td>88.467179</td>\n",
       "      <td>86.380013</td>\n",
       "      <td>8.140791e+05</td>\n",
       "      <td>5148.999526</td>\n",
       "    </tr>\n",
       "    <tr>\n",
       "      <th>75%</th>\n",
       "      <td>22.000000</td>\n",
       "      <td>89.473013</td>\n",
       "      <td>87.764957</td>\n",
       "      <td>92.737898</td>\n",
       "      <td>94.167887</td>\n",
       "      <td>93.818257</td>\n",
       "      <td>93.380044</td>\n",
       "      <td>96.223569</td>\n",
       "      <td>99.776850</td>\n",
       "      <td>102.547128</td>\n",
       "      <td>107.255716</td>\n",
       "      <td>107.737784</td>\n",
       "      <td>107.101072</td>\n",
       "      <td>99.699072</td>\n",
       "      <td>98.538677</td>\n",
       "      <td>1.561043e+06</td>\n",
       "      <td>6817.416736</td>\n",
       "    </tr>\n",
       "    <tr>\n",
       "      <th>max</th>\n",
       "      <td>29.000000</td>\n",
       "      <td>132.766754</td>\n",
       "      <td>131.293895</td>\n",
       "      <td>129.555255</td>\n",
       "      <td>128.116223</td>\n",
       "      <td>125.603116</td>\n",
       "      <td>126.068453</td>\n",
       "      <td>127.568613</td>\n",
       "      <td>127.322924</td>\n",
       "      <td>128.453217</td>\n",
       "      <td>136.447373</td>\n",
       "      <td>133.996292</td>\n",
       "      <td>132.607123</td>\n",
       "      <td>127.459666</td>\n",
       "      <td>122.013302</td>\n",
       "      <td>5.129712e+06</td>\n",
       "      <td>15013.924882</td>\n",
       "    </tr>\n",
       "  </tbody>\n",
       "</table>\n",
       "</div>"
      ],
      "text/plain": [
       "             FID    F2005_06    F2006_07    F2007_08    F2008_09    F2009_10  \\\n",
       "count  29.000000   29.000000   29.000000   29.000000   29.000000   29.000000   \n",
       "mean   15.000000   77.761780   77.448827   80.335606   81.305082   80.868923   \n",
       "std     8.514693   25.086396   24.807592   25.374841   25.099767   24.766963   \n",
       "min     1.000000   26.674955   27.153826   30.321879   30.606158   30.635393   \n",
       "25%     8.000000   61.799504   61.514911   63.226418   67.005499   65.288680   \n",
       "50%    15.000000   75.263696   74.938076   78.344820   80.692593   79.700008   \n",
       "75%    22.000000   89.473013   87.764957   92.737898   94.167887   93.818257   \n",
       "max    29.000000  132.766754  131.293895  129.555255  128.116223  125.603116   \n",
       "\n",
       "         F2010_11    F2011_12    F2012_13    F2013_14    F2014_15    F2015_16  \\\n",
       "count   29.000000   29.000000   29.000000   29.000000   29.000000   29.000000   \n",
       "mean    80.316605   81.598809   81.111111   81.243425   84.399059   85.273848   \n",
       "std     24.672684   25.213503   25.893774   26.864765   28.991984   29.921497   \n",
       "min     30.607010   30.515673   31.470638   32.196756   33.868368   34.780425   \n",
       "25%     63.490568   64.620145   65.429946   65.301818   68.581032   65.166152   \n",
       "50%     78.689475   82.785374   80.681701   76.284453   79.310218   79.309764   \n",
       "75%     93.380044   96.223569   99.776850  102.547128  107.255716  107.737784   \n",
       "max    126.068453  127.568613  127.322924  128.453217  136.447373  133.996292   \n",
       "\n",
       "         F2016_17    F2017_18    F2018_19   Shape__Area  Shape__Length  \n",
       "count   29.000000   29.000000   29.000000  2.900000e+01      29.000000  \n",
       "mean    83.035065   83.880185   82.014342  1.338230e+06    6019.926504  \n",
       "std     28.467261   24.266122   22.743746  1.266281e+06    3003.621491  \n",
       "min     34.372559   39.510019   40.890350  2.013928e+05    2313.919409  \n",
       "25%     64.173608   65.522530   63.698193  5.987029e+05    3817.570308  \n",
       "50%     77.532434   88.467179   86.380013  8.140791e+05    5148.999526  \n",
       "75%    107.101072   99.699072   98.538677  1.561043e+06    6817.416736  \n",
       "max    132.607123  127.459666  122.013302  5.129712e+06   15013.924882  "
      ]
     },
     "execution_count": 18,
     "metadata": {},
     "output_type": "execute_result"
    }
   ],
   "source": [
    "# The df.describe() method is useful for quickly gaining basic stastics about the entire dataset\n",
    "# Obviously the mean or standard deviation for FIPS state or county codes makes no sense, but the\n",
    "# values for the year cases of lyme disease are potentially useful.\n",
    "natural_gas_df.describe()"
   ]
  },
  {
   "cell_type": "code",
   "execution_count": 19,
   "id": "3875e775-e7c6-4b00-b725-f12bd4aaede2",
   "metadata": {},
   "outputs": [
    {
     "data": {
      "text/html": [
       "<div>\n",
       "<style scoped>\n",
       "    .dataframe tbody tr th:only-of-type {\n",
       "        vertical-align: middle;\n",
       "    }\n",
       "\n",
       "    .dataframe tbody tr th {\n",
       "        vertical-align: top;\n",
       "    }\n",
       "\n",
       "    .dataframe thead th {\n",
       "        text-align: right;\n",
       "    }\n",
       "</style>\n",
       "<table border=\"1\" class=\"dataframe\">\n",
       "  <thead>\n",
       "    <tr style=\"text-align: right;\">\n",
       "      <th></th>\n",
       "      <th>NAME</th>\n",
       "      <th>Shape__Length</th>\n",
       "    </tr>\n",
       "  </thead>\n",
       "  <tbody>\n",
       "    <tr>\n",
       "      <th>0</th>\n",
       "      <td>Alexandria</td>\n",
       "      <td>12267.960868</td>\n",
       "    </tr>\n",
       "    <tr>\n",
       "      <th>1</th>\n",
       "      <td>Beaconsfield</td>\n",
       "      <td>2313.919409</td>\n",
       "    </tr>\n",
       "    <tr>\n",
       "      <th>2</th>\n",
       "      <td>Camperdown</td>\n",
       "      <td>6036.699734</td>\n",
       "    </tr>\n",
       "    <tr>\n",
       "      <th>3</th>\n",
       "      <td>Centennial Park</td>\n",
       "      <td>4744.915097</td>\n",
       "    </tr>\n",
       "    <tr>\n",
       "      <th>4</th>\n",
       "      <td>Chippendale</td>\n",
       "      <td>3814.859069</td>\n",
       "    </tr>\n",
       "    <tr>\n",
       "      <th>5</th>\n",
       "      <td>Darlinghurst</td>\n",
       "      <td>5875.264363</td>\n",
       "    </tr>\n",
       "    <tr>\n",
       "      <th>6</th>\n",
       "      <td>Darlington</td>\n",
       "      <td>3462.224751</td>\n",
       "    </tr>\n",
       "    <tr>\n",
       "      <th>7</th>\n",
       "      <td>Dawes Point</td>\n",
       "      <td>3690.511058</td>\n",
       "    </tr>\n",
       "    <tr>\n",
       "      <th>8</th>\n",
       "      <td>Elizabeth Bay</td>\n",
       "      <td>3330.450836</td>\n",
       "    </tr>\n",
       "    <tr>\n",
       "      <th>9</th>\n",
       "      <td>Erskineville</td>\n",
       "      <td>5276.487750</td>\n",
       "    </tr>\n",
       "    <tr>\n",
       "      <th>10</th>\n",
       "      <td>Eveleigh</td>\n",
       "      <td>5051.496020</td>\n",
       "    </tr>\n",
       "    <tr>\n",
       "      <th>11</th>\n",
       "      <td>Forest Lodge + Annandale</td>\n",
       "      <td>6817.416736</td>\n",
       "    </tr>\n",
       "    <tr>\n",
       "      <th>12</th>\n",
       "      <td>Glebe</td>\n",
       "      <td>8777.028293</td>\n",
       "    </tr>\n",
       "    <tr>\n",
       "      <th>13</th>\n",
       "      <td>Haymarket</td>\n",
       "      <td>3817.570308</td>\n",
       "    </tr>\n",
       "    <tr>\n",
       "      <th>14</th>\n",
       "      <td>Millers Point + Barangaroo</td>\n",
       "      <td>4760.147743</td>\n",
       "    </tr>\n",
       "    <tr>\n",
       "      <th>15</th>\n",
       "      <td>Newtown + St Peters</td>\n",
       "      <td>8815.394637</td>\n",
       "    </tr>\n",
       "    <tr>\n",
       "      <th>16</th>\n",
       "      <td>Paddington</td>\n",
       "      <td>4341.780611</td>\n",
       "    </tr>\n",
       "    <tr>\n",
       "      <th>17</th>\n",
       "      <td>Potts Point</td>\n",
       "      <td>6898.168349</td>\n",
       "    </tr>\n",
       "    <tr>\n",
       "      <th>18</th>\n",
       "      <td>Pyrmont</td>\n",
       "      <td>8623.070493</td>\n",
       "    </tr>\n",
       "    <tr>\n",
       "      <th>19</th>\n",
       "      <td>Redfern</td>\n",
       "      <td>6569.806323</td>\n",
       "    </tr>\n",
       "    <tr>\n",
       "      <th>20</th>\n",
       "      <td>Rosebery</td>\n",
       "      <td>6662.374180</td>\n",
       "    </tr>\n",
       "    <tr>\n",
       "      <th>21</th>\n",
       "      <td>Rushcutters Bay</td>\n",
       "      <td>2453.169683</td>\n",
       "    </tr>\n",
       "    <tr>\n",
       "      <th>22</th>\n",
       "      <td>Surry Hills</td>\n",
       "      <td>6421.588050</td>\n",
       "    </tr>\n",
       "    <tr>\n",
       "      <th>23</th>\n",
       "      <td>Sydney</td>\n",
       "      <td>15013.924882</td>\n",
       "    </tr>\n",
       "    <tr>\n",
       "      <th>24</th>\n",
       "      <td>The Rocks</td>\n",
       "      <td>3549.528034</td>\n",
       "    </tr>\n",
       "    <tr>\n",
       "      <th>25</th>\n",
       "      <td>Ultimo</td>\n",
       "      <td>4006.055240</td>\n",
       "    </tr>\n",
       "    <tr>\n",
       "      <th>26</th>\n",
       "      <td>Waterloo + Moore Park</td>\n",
       "      <td>11650.727390</td>\n",
       "    </tr>\n",
       "    <tr>\n",
       "      <th>27</th>\n",
       "      <td>Woolloomooloo</td>\n",
       "      <td>5148.999526</td>\n",
       "    </tr>\n",
       "    <tr>\n",
       "      <th>28</th>\n",
       "      <td>Zetland</td>\n",
       "      <td>4386.329175</td>\n",
       "    </tr>\n",
       "  </tbody>\n",
       "</table>\n",
       "</div>"
      ],
      "text/plain": [
       "                          NAME  Shape__Length\n",
       "0                   Alexandria   12267.960868\n",
       "1                 Beaconsfield    2313.919409\n",
       "2                   Camperdown    6036.699734\n",
       "3              Centennial Park    4744.915097\n",
       "4                  Chippendale    3814.859069\n",
       "5                 Darlinghurst    5875.264363\n",
       "6                   Darlington    3462.224751\n",
       "7                  Dawes Point    3690.511058\n",
       "8                Elizabeth Bay    3330.450836\n",
       "9                 Erskineville    5276.487750\n",
       "10                    Eveleigh    5051.496020\n",
       "11    Forest Lodge + Annandale    6817.416736\n",
       "12                       Glebe    8777.028293\n",
       "13                   Haymarket    3817.570308\n",
       "14  Millers Point + Barangaroo    4760.147743\n",
       "15         Newtown + St Peters    8815.394637\n",
       "16                  Paddington    4341.780611\n",
       "17                 Potts Point    6898.168349\n",
       "18                     Pyrmont    8623.070493\n",
       "19                     Redfern    6569.806323\n",
       "20                    Rosebery    6662.374180\n",
       "21             Rushcutters Bay    2453.169683\n",
       "22                 Surry Hills    6421.588050\n",
       "23                      Sydney   15013.924882\n",
       "24                   The Rocks    3549.528034\n",
       "25                      Ultimo    4006.055240\n",
       "26       Waterloo + Moore Park   11650.727390\n",
       "27               Woolloomooloo    5148.999526\n",
       "28                     Zetland    4386.329175"
      ]
     },
     "execution_count": 19,
     "metadata": {},
     "output_type": "execute_result"
    }
   ],
   "source": [
    "# we can now calculate the shape area for each suburb\n",
    "Shape__Length  = natural_gas_df.groupby('NAME')['Shape__Length'].mean().reset_index()\n",
    "Shape__Length"
   ]
  },
  {
   "cell_type": "markdown",
   "id": "da2c74ff-d9ae-4fbe-ba30-064f2e430901",
   "metadata": {},
   "source": [
    "## Creating plots\n",
    "This will show examples of plots I have created."
   ]
  },
  {
   "cell_type": "markdown",
   "id": "6ee58645-756c-4882-a846-bc6cff9056a7",
   "metadata": {},
   "source": [
    "### Bar plot\n",
    "This example is a bar plot that represents the natural gas intensity by 12 suburbs in Australia. This is a horizontal bar plot, which is shown below. What I did was use `plt.barh()` to create it."
   ]
  },
  {
   "cell_type": "markdown",
   "id": "6f5398f0-522e-44cd-bd73-d5cdeea154ba",
   "metadata": {},
   "source": [
    "#### Bar plot heads\n",
    "This is the head section of the bar plot and it consists of 12 suburbs in Sydney."
   ]
  },
  {
   "cell_type": "code",
   "execution_count": 20,
   "id": "203ee878-a98a-49a0-bf9f-276e09407355",
   "metadata": {},
   "outputs": [
    {
     "ename": "NameError",
     "evalue": "name 'df' is not defined",
     "output_type": "error",
     "traceback": [
      "\u001b[0;31m---------------------------------------------------------------------------\u001b[0m",
      "\u001b[0;31mNameError\u001b[0m                                 Traceback (most recent call last)",
      "Cell \u001b[0;32mIn[20], line 5\u001b[0m\n\u001b[1;32m      2\u001b[0m \u001b[38;5;28;01mimport\u001b[39;00m \u001b[38;5;21;01mnumpy\u001b[39;00m \u001b[38;5;28;01mas\u001b[39;00m \u001b[38;5;21;01mnp\u001b[39;00m\n\u001b[1;32m      4\u001b[0m \u001b[38;5;66;03m# x-axis values \u001b[39;00m\n\u001b[0;32m----> 5\u001b[0m name \u001b[38;5;241m=\u001b[39m \u001b[43mdf\u001b[49m[\u001b[38;5;124m'\u001b[39m\u001b[38;5;124mNAME\u001b[39m\u001b[38;5;124m'\u001b[39m]\u001b[38;5;241m.\u001b[39mhead(\u001b[38;5;241m12\u001b[39m)\n\u001b[1;32m      7\u001b[0m \u001b[38;5;66;03m# Y-axis values \u001b[39;00m\n\u001b[1;32m      8\u001b[0m length \u001b[38;5;241m=\u001b[39m df[\u001b[38;5;124m'\u001b[39m\u001b[38;5;124mShape__Length\u001b[39m\u001b[38;5;124m'\u001b[39m]\u001b[38;5;241m.\u001b[39mhead(\u001b[38;5;241m12\u001b[39m)\n",
      "\u001b[0;31mNameError\u001b[0m: name 'df' is not defined"
     ]
    }
   ],
   "source": [
    "import matplotlib.pyplot as plt\n",
    "import numpy as np\n",
    " \n",
    "# x-axis values \n",
    "name = df['NAME'].head(12)\n",
    "\n",
    "# Y-axis values \n",
    "length = df['Shape__Length'].head(12)\n",
    "\n",
    "plt.barh(name, length, color = \"red\")\n",
    "plt.show()"
   ]
  },
  {
   "cell_type": "markdown",
   "id": "85b25840-07e2-46e7-97b9-ad4dd7dcff0a",
   "metadata": {},
   "source": [
    "#### Bar plot tails\n",
    "This is the tail section of the bar plot and it consists of 12 suburbs in Sydney."
   ]
  },
  {
   "cell_type": "code",
   "execution_count": 21,
   "id": "4aaf355c-c553-4aa3-bcbd-f6a27a975f97",
   "metadata": {},
   "outputs": [
    {
     "ename": "NameError",
     "evalue": "name 'df' is not defined",
     "output_type": "error",
     "traceback": [
      "\u001b[0;31m---------------------------------------------------------------------------\u001b[0m",
      "\u001b[0;31mNameError\u001b[0m                                 Traceback (most recent call last)",
      "Cell \u001b[0;32mIn[21], line 5\u001b[0m\n\u001b[1;32m      2\u001b[0m \u001b[38;5;28;01mimport\u001b[39;00m \u001b[38;5;21;01mnumpy\u001b[39;00m \u001b[38;5;28;01mas\u001b[39;00m \u001b[38;5;21;01mnp\u001b[39;00m\n\u001b[1;32m      4\u001b[0m \u001b[38;5;66;03m# x-axis values \u001b[39;00m\n\u001b[0;32m----> 5\u001b[0m name \u001b[38;5;241m=\u001b[39m \u001b[43mdf\u001b[49m[\u001b[38;5;124m'\u001b[39m\u001b[38;5;124mNAME\u001b[39m\u001b[38;5;124m'\u001b[39m]\u001b[38;5;241m.\u001b[39mtail(\u001b[38;5;241m12\u001b[39m)\n\u001b[1;32m      7\u001b[0m \u001b[38;5;66;03m# Y-axis values \u001b[39;00m\n\u001b[1;32m      8\u001b[0m length \u001b[38;5;241m=\u001b[39m df[\u001b[38;5;124m'\u001b[39m\u001b[38;5;124mShape__Length\u001b[39m\u001b[38;5;124m'\u001b[39m]\u001b[38;5;241m.\u001b[39mtail(\u001b[38;5;241m12\u001b[39m)\n",
      "\u001b[0;31mNameError\u001b[0m: name 'df' is not defined"
     ]
    }
   ],
   "source": [
    "import matplotlib.pyplot as plt\n",
    "import numpy as np\n",
    " \n",
    "# x-axis values \n",
    "name = df['NAME'].tail(12)\n",
    "\n",
    "# Y-axis values \n",
    "length = df['Shape__Length'].tail(12)\n",
    "\n",
    "plt.barh(name, length, color = \"red\")\n",
    "plt.show()"
   ]
  },
  {
   "cell_type": "markdown",
   "id": "fb2b1f9c-1958-49e1-9462-5175ec92348a",
   "metadata": {},
   "source": [
    "### Scatter plot\n",
    "This is a scatter plot for the natural gas intensity by 12 suburbs in Sydney. The `x` will represent the `length` and the `y` will represent the `name`."
   ]
  },
  {
   "cell_type": "markdown",
   "id": "7448098b-1e23-4a30-8977-36957f02b538",
   "metadata": {},
   "source": [
    "#### Scatter plot head\n",
    "This is the head section of the scatter plot and it consists of 12 suburbs in Sydney."
   ]
  },
  {
   "cell_type": "code",
   "execution_count": 22,
   "id": "2fd99fcb-6a96-49e6-ac38-2cd4a0d13da4",
   "metadata": {},
   "outputs": [
    {
     "ename": "NameError",
     "evalue": "name 'df' is not defined",
     "output_type": "error",
     "traceback": [
      "\u001b[0;31m---------------------------------------------------------------------------\u001b[0m",
      "\u001b[0;31mNameError\u001b[0m                                 Traceback (most recent call last)",
      "Cell \u001b[0;32mIn[22], line 5\u001b[0m\n\u001b[1;32m      2\u001b[0m \u001b[38;5;28;01mfrom\u001b[39;00m \u001b[38;5;21;01mmatplotlib\u001b[39;00m \u001b[38;5;28;01mimport\u001b[39;00m pyplot \u001b[38;5;28;01mas\u001b[39;00m plt \n\u001b[1;32m      4\u001b[0m \u001b[38;5;66;03m# x-axis values \u001b[39;00m\n\u001b[0;32m----> 5\u001b[0m length \u001b[38;5;241m=\u001b[39m \u001b[43mdf\u001b[49m[\u001b[38;5;124m'\u001b[39m\u001b[38;5;124mShape__Length\u001b[39m\u001b[38;5;124m'\u001b[39m]\u001b[38;5;241m.\u001b[39mhead(\u001b[38;5;241m12\u001b[39m)\n\u001b[1;32m      7\u001b[0m \u001b[38;5;66;03m# Y-axis values \u001b[39;00m\n\u001b[1;32m      8\u001b[0m name \u001b[38;5;241m=\u001b[39m df[\u001b[38;5;124m'\u001b[39m\u001b[38;5;124mNAME\u001b[39m\u001b[38;5;124m'\u001b[39m]\u001b[38;5;241m.\u001b[39mhead(\u001b[38;5;241m12\u001b[39m)\n",
      "\u001b[0;31mNameError\u001b[0m: name 'df' is not defined"
     ]
    }
   ],
   "source": [
    "# importing matplotlib module \n",
    "from matplotlib import pyplot as plt \n",
    " \n",
    "# x-axis values \n",
    "length = df['Shape__Length'].head(12)\n",
    "\n",
    "# Y-axis values \n",
    "name = df['NAME'].head(12)\n",
    " \n",
    "# Function to plot scatter \n",
    "plt.scatter(length, name) \n",
    " \n",
    "# Adding Title\n",
    "plt.title(\"Natural Gas Intensity by Suburb\")\n",
    "\n",
    "# function to show the plot \n",
    "plt.show() "
   ]
  },
  {
   "cell_type": "markdown",
   "id": "66e2063e-8935-4b77-bdcb-e8fd09a86474",
   "metadata": {},
   "source": [
    "#### Scatter plot tails\n",
    "This is the tail section of the scatter plot and it consists of 12 suburbs in Sydney."
   ]
  },
  {
   "cell_type": "code",
   "execution_count": 23,
   "id": "73eadd97-cb38-47e7-9e0d-476e159f4022",
   "metadata": {},
   "outputs": [
    {
     "ename": "NameError",
     "evalue": "name 'df' is not defined",
     "output_type": "error",
     "traceback": [
      "\u001b[0;31m---------------------------------------------------------------------------\u001b[0m",
      "\u001b[0;31mNameError\u001b[0m                                 Traceback (most recent call last)",
      "Cell \u001b[0;32mIn[23], line 5\u001b[0m\n\u001b[1;32m      2\u001b[0m \u001b[38;5;28;01mfrom\u001b[39;00m \u001b[38;5;21;01mmatplotlib\u001b[39;00m \u001b[38;5;28;01mimport\u001b[39;00m pyplot \u001b[38;5;28;01mas\u001b[39;00m plt \n\u001b[1;32m      4\u001b[0m \u001b[38;5;66;03m# x-axis values \u001b[39;00m\n\u001b[0;32m----> 5\u001b[0m length \u001b[38;5;241m=\u001b[39m \u001b[43mdf\u001b[49m[\u001b[38;5;124m'\u001b[39m\u001b[38;5;124mShape__Length\u001b[39m\u001b[38;5;124m'\u001b[39m]\u001b[38;5;241m.\u001b[39mtail(\u001b[38;5;241m12\u001b[39m)\n\u001b[1;32m      7\u001b[0m \u001b[38;5;66;03m# Y-axis values \u001b[39;00m\n\u001b[1;32m      8\u001b[0m name \u001b[38;5;241m=\u001b[39m df[\u001b[38;5;124m'\u001b[39m\u001b[38;5;124mNAME\u001b[39m\u001b[38;5;124m'\u001b[39m]\u001b[38;5;241m.\u001b[39mtail(\u001b[38;5;241m12\u001b[39m)\n",
      "\u001b[0;31mNameError\u001b[0m: name 'df' is not defined"
     ]
    }
   ],
   "source": [
    "# importing matplotlib module \n",
    "from matplotlib import pyplot as plt \n",
    " \n",
    "# x-axis values \n",
    "length = df['Shape__Length'].tail(12)\n",
    "\n",
    "# Y-axis values \n",
    "name = df['NAME'].tail(12)\n",
    " \n",
    "# Function to plot scatter \n",
    "plt.scatter(length, name) \n",
    " \n",
    "# Adding Title\n",
    "plt.title(\"Natural Gas Intensity by Suburb\")\n",
    "\n",
    "# function to show the plot \n",
    "plt.show() "
   ]
  }
 ],
 "metadata": {
  "kernelspec": {
   "display_name": "Python 3 (ipykernel)",
   "language": "python",
   "name": "python3"
  },
  "language_info": {
   "codemirror_mode": {
    "name": "ipython",
    "version": 3
   },
   "file_extension": ".py",
   "mimetype": "text/x-python",
   "name": "python",
   "nbconvert_exporter": "python",
   "pygments_lexer": "ipython3",
   "version": "3.9.18"
  }
 },
 "nbformat": 4,
 "nbformat_minor": 5
}
