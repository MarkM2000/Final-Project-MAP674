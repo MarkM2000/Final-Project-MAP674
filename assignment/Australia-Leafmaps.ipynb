{
 "cells": [
  {
   "cell_type": "markdown",
   "id": "cbd90224-a40e-4df4-9051-cfc9c8478168",
   "metadata": {},
   "source": [
    "# Australia Leafmaps\n",
    "This page is part of my Final Project for MAP 674. This page will focus on the Leafmap aspect of the final project as this was the main focus of this page."
   ]
  },
  {
   "cell_type": "code",
   "execution_count": 16,
   "id": "1dce2135-4634-4a3d-874d-f5f2479c20f4",
   "metadata": {},
   "outputs": [],
   "source": [
    "import leafmap"
   ]
  },
  {
   "cell_type": "markdown",
   "id": "d3c17357-a570-442d-86c0-ec0e62169b7f",
   "metadata": {},
   "source": [
    "## Tuple sample\n",
    "This is a tuple of what the Leafmaps will look like. It shows the coordinates that are used for Australia."
   ]
  },
  {
   "cell_type": "code",
   "execution_count": 17,
   "id": "791d7c22-786f-44e8-bcaf-26e13caa8471",
   "metadata": {},
   "outputs": [
    {
     "name": "stdout",
     "output_type": "stream",
     "text": [
      "(-25, 133)\n"
     ]
    },
    {
     "data": {
      "text/plain": [
       "-25"
      ]
     },
     "execution_count": 17,
     "metadata": {},
     "output_type": "execute_result"
    }
   ],
   "source": [
    "coords = (-25, 133)\n",
    "print(coords)\n",
    "\n",
    "coords[0]"
   ]
  },
  {
   "cell_type": "markdown",
   "id": "2b71d1f4-1f48-4719-82dd-1b4144e4154e",
   "metadata": {},
   "source": [
    "## Leafmaps\n",
    "This section are Leafmaps that I will use. This will be a sample of multiple Leafmaps in the project."
   ]
  },
  {
   "cell_type": "markdown",
   "id": "823b6cd7-5ae3-4064-8562-a7ab65a7a90d",
   "metadata": {},
   "source": [
    "### Simple leafmap\n",
    "This is a simple leafmap of Australia."
   ]
  },
  {
   "cell_type": "code",
   "execution_count": 18,
   "id": "6dbad9e2-8934-4493-882d-a07fc52e96e5",
   "metadata": {},
   "outputs": [
    {
     "data": {
      "application/vnd.jupyter.widget-view+json": {
       "model_id": "944b28d13c8f4b329f875f9140880c88",
       "version_major": 2,
       "version_minor": 0
      },
      "text/plain": [
       "Map(center=[-25, 133], controls=(ZoomControl(options=['position', 'zoom_in_text', 'zoom_in_title', 'zoom_out_t…"
      ]
     },
     "execution_count": 18,
     "metadata": {},
     "output_type": "execute_result"
    }
   ],
   "source": [
    "import leafmap\n",
    "m = leafmap.Map(center=(-25, 133), zoom=4)\n",
    "m"
   ]
  },
  {
   "cell_type": "markdown",
   "id": "5744580b-2e4d-487d-a479-b6975051487f",
   "metadata": {},
   "source": [
    "### Topo map\n",
    "In this section, I will create Australia as a top map. To do this, I use the following example below and once it's run, it produces the map. "
   ]
  },
  {
   "cell_type": "code",
   "execution_count": 21,
   "id": "70f229e8-56cd-4cca-a36a-c142c29e1fac",
   "metadata": {},
   "outputs": [
    {
     "data": {
      "application/vnd.jupyter.widget-view+json": {
       "model_id": "492484f407b845909a1dc82ec27242cc",
       "version_major": 2,
       "version_minor": 0
      },
      "text/plain": [
       "Map(center=[-25, 133], controls=(ZoomControl(options=['position', 'zoom_in_text', 'zoom_in_title', 'zoom_out_t…"
      ]
     },
     "execution_count": 21,
     "metadata": {},
     "output_type": "execute_result"
    }
   ],
   "source": [
    "m = leafmap.Map(center=(-25, 133), zoom=4)\n",
    "m.add_basemap(\"OpenTopoMap\")\n",
    "m"
   ]
  }
 ],
 "metadata": {
  "kernelspec": {
   "display_name": "Python 3 (ipykernel)",
   "language": "python",
   "name": "python3"
  },
  "language_info": {
   "codemirror_mode": {
    "name": "ipython",
    "version": 3
   },
   "file_extension": ".py",
   "mimetype": "text/x-python",
   "name": "python",
   "nbconvert_exporter": "python",
   "pygments_lexer": "ipython3",
   "version": "3.9.18"
  }
 },
 "nbformat": 4,
 "nbformat_minor": 5
}
