{
 "cells": [
  {
   "cell_type": "markdown",
   "id": "cbd90224-a40e-4df4-9051-cfc9c8478168",
   "metadata": {},
   "source": [
    "# Australia Leafmaps\n",
    "This page is part of my Final Project for MAP 674. This page will focus on the Leafmap aspect of the final project as this was the main focus of this page."
   ]
  },
  {
   "cell_type": "code",
   "execution_count": 64,
   "id": "1dce2135-4634-4a3d-874d-f5f2479c20f4",
   "metadata": {},
   "outputs": [],
   "source": [
    "import leafmap"
   ]
  },
  {
   "cell_type": "markdown",
   "id": "d3c17357-a570-442d-86c0-ec0e62169b7f",
   "metadata": {},
   "source": [
    "## Tuple sample\n",
    "This is a tuple of what the Leafmaps will look like. It shows the coordinates that are used for Australia."
   ]
  },
  {
   "cell_type": "code",
   "execution_count": 65,
   "id": "791d7c22-786f-44e8-bcaf-26e13caa8471",
   "metadata": {},
   "outputs": [
    {
     "name": "stdout",
     "output_type": "stream",
     "text": [
      "(-25, 133)\n"
     ]
    },
    {
     "data": {
      "text/plain": [
       "-25"
      ]
     },
     "execution_count": 65,
     "metadata": {},
     "output_type": "execute_result"
    }
   ],
   "source": [
    "coords = (-25, 133)\n",
    "print(coords)\n",
    "\n",
    "coords[0]"
   ]
  },
  {
   "cell_type": "markdown",
   "id": "2b71d1f4-1f48-4719-82dd-1b4144e4154e",
   "metadata": {},
   "source": [
    "## Leafmaps\n",
    "This section are Leafmaps that I will use. This will be a sample of multiple Leafmaps in the project."
   ]
  },
  {
   "cell_type": "markdown",
   "id": "b0ee4a3f-78a9-436e-8aed-831f39236bdc",
   "metadata": {},
   "source": [
    "### Simple leafmap\n",
    "This is a simple leafmap of Australia."
   ]
  },
  {
   "cell_type": "code",
   "execution_count": 66,
   "id": "6dbad9e2-8934-4493-882d-a07fc52e96e5",
   "metadata": {},
   "outputs": [
    {
     "data": {
      "application/vnd.jupyter.widget-view+json": {
       "model_id": "5dbac374483e406e8a950099e216a4ef",
       "version_major": 2,
       "version_minor": 0
      },
      "text/plain": [
       "Map(center=[-25, 133], controls=(ZoomControl(options=['position', 'zoom_in_text', 'zoom_in_title', 'zoom_out_t…"
      ]
     },
     "execution_count": 66,
     "metadata": {},
     "output_type": "execute_result"
    }
   ],
   "source": [
    "import leafmap\n",
    "m = leafmap.Map(center=(-25, 133), zoom=4)\n",
    "m"
   ]
  },
  {
   "cell_type": "markdown",
   "id": "5744580b-2e4d-487d-a479-b6975051487f",
   "metadata": {},
   "source": [
    "### Topo map\n",
    "In this section, I will create Australia as a top map. To do this, I use the following example below and once it's run, it produces the map. "
   ]
  },
  {
   "cell_type": "code",
   "execution_count": 67,
   "id": "70f229e8-56cd-4cca-a36a-c142c29e1fac",
   "metadata": {},
   "outputs": [
    {
     "data": {
      "application/vnd.jupyter.widget-view+json": {
       "model_id": "4c8d08d95ad7415581deb525ede24c1e",
       "version_major": 2,
       "version_minor": 0
      },
      "text/plain": [
       "Map(center=[-25, 133], controls=(ZoomControl(options=['position', 'zoom_in_text', 'zoom_in_title', 'zoom_out_t…"
      ]
     },
     "execution_count": 67,
     "metadata": {},
     "output_type": "execute_result"
    }
   ],
   "source": [
    "m = leafmap.Map(center=(-25, 133), zoom=4)\n",
    "m.add_basemap(\"OpenTopoMap\")\n",
    "m"
   ]
  },
  {
   "cell_type": "markdown",
   "id": "9adc981d-e35e-43c1-9fe0-32da71b21405",
   "metadata": {},
   "source": [
    "## GeoJSON Color Map\n",
    "This is a GeoJSON color map of Australia and other surrounding countries."
   ]
  },
  {
   "cell_type": "code",
   "execution_count": 68,
   "id": "b98d29a4-5ee4-418b-9de8-d9dc06c70cac",
   "metadata": {},
   "outputs": [
    {
     "data": {
      "application/vnd.jupyter.widget-view+json": {
       "model_id": "2bf794e5af554d299bd9ac392b5beef7",
       "version_major": 2,
       "version_minor": 0
      },
      "text/plain": [
       "Map(center=[-25, 133], controls=(ZoomControl(options=['position', 'zoom_in_text', 'zoom_in_title', 'zoom_out_t…"
      ]
     },
     "execution_count": 68,
     "metadata": {},
     "output_type": "execute_result"
    }
   ],
   "source": [
    "# Add a GeoJSON with random filled color to the map.\n",
    "m = leafmap.Map(center=[-25, 133], zoom=2)\n",
    "url = \"https://raw.githubusercontent.com/opengeos/leafmap/master/examples/data/countries.geojson\"\n",
    "style = {\"fillOpacity\": 0.5}\n",
    "m.add_geojson(\n",
    "    url,\n",
    "    layer_name=\"Countries\",\n",
    "    style=style,\n",
    "    fill_colors=[\"red\", \"yellow\", \"green\", \"orange\"],\n",
    ")\n",
    "m"
   ]
  },
  {
   "cell_type": "markdown",
   "id": "b8f9ca62-fc5c-46dd-bd7b-c3e8a85e9020",
   "metadata": {},
   "source": [
    "## Ending\n",
    "This is the final conclusion of some Leafmap examples of Australia. As we can see, I can apply several types of leafmaps. This includes a simple model and a topo model."
   ]
  }
 ],
 "metadata": {
  "kernelspec": {
   "display_name": "Python 3 (ipykernel)",
   "language": "python",
   "name": "python3"
  },
  "language_info": {
   "codemirror_mode": {
    "name": "ipython",
    "version": 3
   },
   "file_extension": ".py",
   "mimetype": "text/x-python",
   "name": "python",
   "nbconvert_exporter": "python",
   "pygments_lexer": "ipython3",
   "version": "3.9.18"
  }
 },
 "nbformat": 4,
 "nbformat_minor": 5
}
